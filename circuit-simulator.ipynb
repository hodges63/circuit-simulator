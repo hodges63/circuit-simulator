{
 "cells": [
  {
   "cell_type": "code",
   "execution_count": 1,
   "id": "5af77b4a-c74b-4b2c-b2b9-c2418ca5458d",
   "metadata": {
    "tags": []
   },
   "outputs": [],
   "source": [
    "import numpy as np"
   ]
  },
  {
   "cell_type": "code",
   "execution_count": 2,
   "id": "b1932dac-9fa6-4a86-94d7-ce7a6c299c01",
   "metadata": {},
   "outputs": [],
   "source": [
    "def buffer(x: bool):\n",
    "    return x\n",
    "\n",
    "def inverter(x: bool):\n",
    "    return not x\n",
    "\n",
    "def AND(x: list[bool,...]):\n",
    "    if len(x)>0:\n",
    "        return all(x)\n",
    "    \n",
    "def NAND(x: list[bool,...]):\n",
    "    if len(x)>0:\n",
    "        return not all(x)\n",
    "\n",
    "def OR(x: list[bool,...]):\n",
    "    if len(x)>0:\n",
    "        return any(x)\n",
    "    \n",
    "def NOR(x: list[bool,...]):\n",
    "    if len(x)>0:\n",
    "        return not any(x)"
   ]
  },
  {
   "cell_type": "code",
   "execution_count": 3,
   "id": "0f2084ca-aac7-45d6-a111-6823ca83faf4",
   "metadata": {},
   "outputs": [],
   "source": [
    "basics = {\n",
    "    'BUF': buffer,\n",
    "    'INV': inverter,\n",
    "    'AND': AND,\n",
    "    'NAND': NAND,\n",
    "    'OR': OR,\n",
    "    'NOR': NOR,\n",
    "    # 'INPUT' = INPUT,\n",
    "    # 'OUTPUT' = OUTPUT\n",
    "}"
   ]
  },
  {
   "cell_type": "code",
   "execution_count": 4,
   "id": "defd2832-0626-4cbc-9fb3-002ad676f43d",
   "metadata": {},
   "outputs": [],
   "source": [
    "class Circuit:\n",
    "    \n",
    "    def __init__(self, file):\n",
    "        self.parse(file)\n",
    "        \n",
    "    def parse(self, file):\n",
    "        with open(file) as f:\n",
    "            circuit = f.read()\n",
    "        circuit.replace('  ', ' ')\n",
    "        self.circuit = {}\n",
    "        for i, element in enumerate(circuit.split('\\n')):\n",
    "            if element == '':\n",
    "                continue\n",
    "            info = element.split(' ')\n",
    "            if info[0] in ['INPUT', 'OUTPUT']:\n",
    "                self.circuit.update({info[0]: list(map(int, info[2:]))})\n",
    "            else:\n",
    "                self.circuit.update({info[0]+f'_{i}': {'IN': list(map(int, info[1:-1])), 'OUT': int(info[-1])}})\n",
    "                \n",
    "        self.length = 0\n",
    "        for line in circuit.split('\\n'):\n",
    "            for num in line.split(' '):\n",
    "                try:\n",
    "                    num = int(num)\n",
    "                    if num > self.length:\n",
    "                        self.length = num\n",
    "                except:\n",
    "                    continue\n",
    "        self.length+=2\n",
    "            \n",
    "    \n",
    "    def simulate(self, input_vector):\n",
    "        self.start = np.asarray([0]*self.length)\n",
    "        self.next = np.copy(self.start)\n",
    "        for i, index in zip(input_vector[:], self.circuit['INPUT']):\n",
    "            self.next[index] = int(i)\n",
    "        print(self.next[1:])\n",
    "        while not np.array_equal(self.start, self.next):\n",
    "            self.start = np.copy(self.next)\n",
    "            for element in self.circuit.keys():\n",
    "                if element in ['INPUT', 'OUTPUT']:\n",
    "                    continue\n",
    "                self.next[self.circuit[element]['OUT']] = basics[element.split('_')[0]](self.start[self.circuit[element]['IN']])\n",
    "            # print(self.next[1:])\n",
    "        print('Output: ', ''.join([str(a) for a in self.next[self.circuit['OUTPUT']][:-1]]))\n",
    "        return self.next[self.circuit['OUTPUT'][:-1]]"
   ]
  },
  {
   "cell_type": "code",
   "execution_count": 5,
   "id": "837a267c-d2c6-4bcd-b5f9-dc62b14a5c58",
   "metadata": {},
   "outputs": [],
   "source": [
    "file = 'Circuit Inputs/s27.txt'\n",
    "c = Circuit(file)"
   ]
  },
  {
   "cell_type": "code",
   "execution_count": 6,
   "id": "c5c782fc-61b0-40f5-87e5-dd2cd0fa6f4d",
   "metadata": {
    "tags": []
   },
   "outputs": [
    {
     "name": "stdout",
     "output_type": "stream",
     "text": [
      "1110101\n",
      "[1 1 1 0 0 1 0 0 0 1 0 0 0 0 0 0 0 0 0 0 0]\n",
      "Output:  1001\n",
      "0001010\n",
      "[0 0 0 1 0 0 0 1 0 0 0 0 0 0 0 0 0 0 0 0 0]\n",
      "Output:  0100\n",
      "1010101\n",
      "[1 0 1 0 0 1 0 0 0 1 0 0 0 0 0 0 0 0 0 0 0]\n",
      "Output:  1001\n",
      "0110111\n",
      "[0 1 1 0 0 1 0 1 0 1 0 0 0 0 0 0 0 0 0 0 0]\n",
      "Output:  0001\n",
      "1010001\n",
      "[1 0 1 0 0 0 0 0 0 1 0 0 0 0 0 0 0 0 0 0 0]\n",
      "Output:  1001\n"
     ]
    }
   ],
   "source": [
    "tests = ['1110101', '0001010', '1010101', '0110111', '1010001']\n",
    "# tests = ['1110101', '0001010']\n",
    "for test in tests:\n",
    "    print(test)\n",
    "    c.simulate(test)"
   ]
  },
  {
   "cell_type": "code",
   "execution_count": 7,
   "id": "b883c18e-fcd3-4b1e-90b1-9e4ec2050d07",
   "metadata": {},
   "outputs": [],
   "source": [
    "file = 'Circuit Inputs/s298f_2.txt'\n",
    "c = Circuit(file)\n",
    "# print(c.circuit)"
   ]
  },
  {
   "cell_type": "code",
   "execution_count": 8,
   "id": "ad7c9aff-ae5e-4a85-97ee-a6361c700d33",
   "metadata": {
    "tags": []
   },
   "outputs": [
    {
     "name": "stdout",
     "output_type": "stream",
     "text": [
      "10101010101010101\n",
      "[1 0 1 0 1 0 1 0 1 0 1 0 1 0 1 0 1 0 0 0 0 0 0 0 0 0 0 0 0 0 0 0 0 0 0 0 0\n",
      " 0 0 0 0 0 0 0 0 0 0 0 0 0 0 0 0 0 0 0 0 0 0 0 0 0 0 0 0 0 0 0 0 0 0 0 0 0\n",
      " 0 0 0 0 0 0 0 0 0 0 0 0 0 0 0 0 0 0 0 0 0 0 0 0 0 0 0 0 0 0 0 0 0 0 0 0 0\n",
      " 0 0 0 0 0 0 0 0 0 0 0 0 0 0 0 0 0 0 0 0 0 0 0 0 0 0 0 0 0 0 0 0 0 0 0 0 0\n",
      " 0 0 0 0 0 0 0 0 0 0 0 0 0 0 0 0 0 0 0 0 0 0 0 0 0 0 0 0 0 0 0 0 0 0 0 0 0\n",
      " 0 0 0 0 0 0 0 0 0 0 0 0 0 0 0 0 0 0]\n",
      "Output:  00000010101000111000\n",
      "01011110000000111\n",
      "[0 1 0 1 1 1 1 0 0 0 0 0 0 0 1 1 1 0 0 0 0 0 0 0 0 0 0 0 0 0 0 0 0 0 0 0 0\n",
      " 0 0 0 0 0 0 0 0 0 0 0 0 0 0 0 0 0 0 0 0 0 0 0 0 0 0 0 0 0 0 0 0 0 0 0 0 0\n",
      " 0 0 0 0 0 0 0 0 0 0 0 0 0 0 0 0 0 0 0 0 0 0 0 0 0 0 0 0 0 0 0 0 0 0 0 0 0\n",
      " 0 0 0 0 0 0 0 0 0 0 0 0 0 0 0 0 0 0 0 0 0 0 0 0 0 0 0 0 0 0 0 0 0 0 0 0 0\n",
      " 0 0 0 0 0 0 0 0 0 0 0 0 0 0 0 0 0 0 0 0 0 0 0 0 0 0 0 0 0 0 0 0 0 0 0 0 0\n",
      " 0 0 0 0 0 0 0 0 0 0 0 0 0 0 0 0 0 0]\n",
      "Output:  00000000011000001000\n",
      "11111000001111000\n",
      "[1 1 1 1 1 0 0 0 0 0 1 1 1 1 0 0 0 0 0 0 0 0 0 0 0 0 0 0 0 0 0 0 0 0 0 0 0\n",
      " 0 0 0 0 0 0 0 0 0 0 0 0 0 0 0 0 0 0 0 0 0 0 0 0 0 0 0 0 0 0 0 0 0 0 0 0 0\n",
      " 0 0 0 0 0 0 0 0 0 0 0 0 0 0 0 0 0 0 0 0 0 0 0 0 0 0 0 0 0 0 0 0 0 0 0 0 0\n",
      " 0 0 0 0 0 0 0 0 0 0 0 0 0 0 0 0 0 0 0 0 0 0 0 0 0 0 0 0 0 0 0 0 0 0 0 0 0\n",
      " 0 0 0 0 0 0 0 0 0 0 0 0 0 0 0 0 0 0 0 0 0 0 0 0 0 0 0 0 0 0 0 0 0 0 0 0 0\n",
      " 0 0 0 0 0 0 0 0 0 0 0 0 0 0 0 0 0 0]\n",
      "Output:  00000000001111010010\n",
      "11100001110001100\n",
      "[1 1 1 0 0 0 0 1 1 1 0 0 0 1 1 0 0 0 0 0 0 0 0 0 0 0 0 0 0 0 0 0 0 0 0 0 0\n",
      " 0 0 0 0 0 0 0 0 0 0 0 0 0 0 0 0 0 0 0 0 0 0 0 0 0 0 0 0 0 0 0 0 0 0 0 0 0\n",
      " 0 0 0 0 0 0 0 0 0 0 0 0 0 0 0 0 0 0 0 0 0 0 0 0 0 0 0 0 0 0 0 0 0 0 0 0 0\n",
      " 0 0 0 0 0 0 0 0 0 0 0 0 0 0 0 0 0 0 0 0 0 0 0 0 0 0 0 0 0 0 0 0 0 0 0 0 0\n",
      " 0 0 0 0 0 0 0 0 0 0 0 0 0 0 0 0 0 0 0 0 0 0 0 0 0 0 0 0 0 0 0 0 0 0 0 0 0\n",
      " 0 0 0 0 0 0 0 0 0 0 0 0 0 0 0 0 0 0]\n",
      "Output:  00000000100100100101\n",
      "01111011110000000\n",
      "[0 1 1 1 1 0 1 1 1 1 0 0 0 0 0 0 0 0 0 0 0 0 0 0 0 0 0 0 0 0 0 0 0 0 0 0 0\n",
      " 0 0 0 0 0 0 0 0 0 0 0 0 0 0 0 0 0 0 0 0 0 0 0 0 0 0 0 0 0 0 0 0 0 0 0 0 0\n",
      " 0 0 0 0 0 0 0 0 0 0 0 0 0 0 0 0 0 0 0 0 0 0 0 0 0 0 0 0 0 0 0 0 0 0 0 0 0\n",
      " 0 0 0 0 0 0 0 0 0 0 0 0 0 0 0 0 0 0 0 0 0 0 0 0 0 0 0 0 0 0 0 0 0 0 0 0 0\n",
      " 0 0 0 0 0 0 0 0 0 0 0 0 0 0 0 0 0 0 0 0 0 0 0 0 0 0 0 0 0 0 0 0 0 0 0 0 0\n",
      " 0 0 0 0 0 0 0 0 0 0 0 0 0 0 0 0 0 0]\n",
      "Output:  11111011110000101101\n"
     ]
    }
   ],
   "source": [
    "tests = ['10101010101010101', '01011110000000111', '11111000001111000', '11100001110001100', '01111011110000000']\n",
    "for test in tests:\n",
    "    print(test)\n",
    "    c.simulate(test)"
   ]
  },
  {
   "cell_type": "code",
   "execution_count": 9,
   "id": "ffe5ca7e-115c-483e-ab12-42188a79a4c2",
   "metadata": {},
   "outputs": [],
   "source": [
    "file = 'Circuit Inputs/s344f_2.txt'\n",
    "c = Circuit(file)\n",
    "# print(c.circuit)"
   ]
  },
  {
   "cell_type": "code",
   "execution_count": 10,
   "id": "c033c739-a163-4db8-ac6b-05aa0d6e4625",
   "metadata": {
    "tags": []
   },
   "outputs": [
    {
     "name": "stdout",
     "output_type": "stream",
     "text": [
      "101010101010101011111111\n",
      "[1 0 1 0 1 0 1 0 1 0 1 0 1 0 1 0 1 1 1 1 1 1 1 1 0 0 0 0 0 0 0 0 0 0 0 0 0\n",
      " 0 0 0 0 0 0 0 0 0 0 0 0 0 0 0 0 0 0 0 0 0 0 0 0 0 0 0 0 0 0 0 0 0 0 0 0 0\n",
      " 0 0 0 0 0 0 0 0 0 0 0 0 0 0 0 0 0 0 0 0 0 0 0 0 0 0 0 0 0 0 0 0 0 0 0 0 0\n",
      " 0 0 0 0 0 0 0 0 0 0 0 0 0 0 0 0 0 0 0 0 0 0 0 0 0 0 0 0 0 0 0 0 0 0 0 0 0\n",
      " 0 0 0 0 0 0 0 0 0 0 0 0 0 0 0 0 0 0 0 0 0 0 0 0 0 0 0 0 0 0 0 0 0 0 0 0 0\n",
      " 0 0 0 0 0 0]\n",
      "Output:  10101010101010101010101101\n",
      "010111100000001110000000\n",
      "[0 1 0 1 1 1 1 0 0 0 0 0 0 0 1 1 1 0 0 0 0 0 0 0 0 0 0 0 0 0 0 0 0 0 0 0 0\n",
      " 0 0 0 0 0 0 0 0 0 0 0 0 0 0 0 0 0 0 0 0 0 0 0 0 0 0 0 0 0 0 0 0 0 0 0 0 0\n",
      " 0 0 0 0 0 0 0 0 0 0 0 0 0 0 0 0 0 0 0 0 0 0 0 0 0 0 0 0 0 0 0 0 0 0 0 0 0\n",
      " 0 0 0 0 0 0 0 0 0 0 0 0 0 0 0 0 0 0 0 0 0 0 0 0 0 0 0 0 0 0 0 0 0 0 0 0 0\n",
      " 0 0 0 0 0 0 0 0 0 0 0 0 0 0 0 0 0 0 0 0 0 0 0 0 0 0 0 0 0 0 0 0 0 0 0 0 0\n",
      " 0 0 0 0 0 0]\n",
      "Output:  00011110000000100001111100\n",
      "111110000011110001111111\n",
      "[1 1 1 1 1 0 0 0 0 0 1 1 1 1 0 0 0 1 1 1 1 1 1 1 0 0 0 0 0 0 0 0 0 0 0 0 0\n",
      " 0 0 0 0 0 0 0 0 0 0 0 0 0 0 0 0 0 0 0 0 0 0 0 0 0 0 0 0 0 0 0 0 0 0 0 0 0\n",
      " 0 0 0 0 0 0 0 0 0 0 0 0 0 0 0 0 0 0 0 0 0 0 0 0 0 0 0 0 0 0 0 0 0 0 0 0 0\n",
      " 0 0 0 0 0 0 0 0 0 0 0 0 0 0 0 0 0 0 0 0 0 0 0 0 0 0 0 0 0 0 0 0 0 0 0 0 0\n",
      " 0 0 0 0 0 0 0 0 0 0 0 0 0 0 0 0 0 0 0 0 0 0 0 0 0 0 0 0 0 0 0 0 0 0 0 0 0\n",
      " 0 0 0 0 0 0]\n",
      "Output:  00011100000111011000111010\n",
      "111000011100011000000000\n",
      "[1 1 1 0 0 0 0 1 1 1 0 0 0 1 1 0 0 0 0 0 0 0 0 0 0 0 0 0 0 0 0 0 0 0 0 0 0\n",
      " 0 0 0 0 0 0 0 0 0 0 0 0 0 0 0 0 0 0 0 0 0 0 0 0 0 0 0 0 0 0 0 0 0 0 0 0 0\n",
      " 0 0 0 0 0 0 0 0 0 0 0 0 0 0 0 0 0 0 0 0 0 0 0 0 0 0 0 0 0 0 0 0 0 0 0 0 0\n",
      " 0 0 0 0 0 0 0 0 0 0 0 0 0 0 0 0 0 0 0 0 0 0 0 0 0 0 0 0 0 0 0 0 0 0 0 0 0\n",
      " 0 0 0 0 0 0 0 0 0 0 0 0 0 0 0 0 0 0 0 0 0 0 0 0 0 0 0 0 0 0 0 0 0 0 0 0 0\n",
      " 0 0 0 0 0 0]\n",
      "Output:  00001101111001111111000010\n",
      "011110111100000001111111\n",
      "[0 1 1 1 1 0 1 1 1 1 0 0 0 0 0 0 0 1 1 1 1 1 1 1 0 0 0 0 0 0 0 0 0 0 0 0 0\n",
      " 0 0 0 0 0 0 0 0 0 0 0 0 0 0 0 0 0 0 0 0 0 0 0 0 0 0 0 0 0 0 0 0 0 0 0 0 0\n",
      " 0 0 0 0 0 0 0 0 0 0 0 0 0 0 0 0 0 0 0 0 0 0 0 0 0 0 0 0 0 0 0 0 0 0 0 0 0\n",
      " 0 0 0 0 0 0 0 0 0 0 0 0 0 0 0 0 0 0 0 0 0 0 0 0 0 0 0 0 0 0 0 0 0 0 0 0 0\n",
      " 0 0 0 0 0 0 0 0 0 0 0 0 0 0 0 0 0 0 0 0 0 0 0 0 0 0 0 0 0 0 0 0 0 0 0 0 0\n",
      " 0 0 0 0 0 0]\n",
      "Output:  10011101111000001001000100\n"
     ]
    }
   ],
   "source": [
    "tests = ['101010101010101011111111', \n",
    "         '010111100000001110000000', \n",
    "         '111110000011110001111111', \n",
    "         '111000011100011000000000', \n",
    "         '011110111100000001111111']\n",
    "for test in tests:\n",
    "    print(test)\n",
    "    c.simulate(test)"
   ]
  },
  {
   "cell_type": "code",
   "execution_count": 12,
   "id": "ef879b63-52d7-40ff-82df-25e2feec461d",
   "metadata": {},
   "outputs": [],
   "source": [
    "file = 'Circuit Inputs/s349f_2.txt'\n",
    "c = Circuit(file)\n",
    "# print(c.circuit)"
   ]
  },
  {
   "cell_type": "code",
   "execution_count": 13,
   "id": "becf7403-1c62-4d08-8329-a00b967c56ec",
   "metadata": {
    "tags": []
   },
   "outputs": [
    {
     "name": "stdout",
     "output_type": "stream",
     "text": [
      "101010101010101011111111\n",
      "[1 0 1 0 1 0 1 0 1 0 1 0 1 0 1 0 1 1 1 1 1 1 1 1 0 0 0 0 0 0 0 0 0 0 0 0 0\n",
      " 0 0 0 0 0 0 0 0 0 0 0 0 0 0 0 0 0 0 0 0 0 0 0 0 0 0 0 0 0 0 0 0 0 0 0 0 0\n",
      " 0 0 0 0 0 0 0 0 0 0 0 0 0 0 0 0 0 0 0 0 0 0 0 0 0 0 0 0 0 0 0 0 0 0 0 0 0\n",
      " 0 0 0 0 0 0 0 0 0 0 0 0 0 0 0 0 0 0 0 0 0 0 0 0 0 0 0 0 0 0 0 0 0 0 0 0 0\n",
      " 0 0 0 0 0 0 0 0 0 0 0 0 0 0 0 0 0 0 0 0 0 0 0 0 0 0 0 0 0 0 0 0 0 0 0 0 0\n",
      " 0 0 0 0 0]\n",
      "Output:  10101010101010101101010101\n",
      "010111100000001110000000\n",
      "[0 1 0 1 1 1 1 0 0 0 0 0 0 0 1 1 1 0 0 0 0 0 0 0 0 0 0 0 0 0 0 0 0 0 0 0 0\n",
      " 0 0 0 0 0 0 0 0 0 0 0 0 0 0 0 0 0 0 0 0 0 0 0 0 0 0 0 0 0 0 0 0 0 0 0 0 0\n",
      " 0 0 0 0 0 0 0 0 0 0 0 0 0 0 0 0 0 0 0 0 0 0 0 0 0 0 0 0 0 0 0 0 0 0 0 0 0\n",
      " 0 0 0 0 0 0 0 0 0 0 0 0 0 0 0 0 0 0 0 0 0 0 0 0 0 0 0 0 0 0 0 0 0 0 0 0 0\n",
      " 0 0 0 0 0 0 0 0 0 0 0 0 0 0 0 0 0 0 0 0 0 0 0 0 0 0 0 0 0 0 0 0 0 0 0 0 0\n",
      " 0 0 0 0 0]\n",
      "Output:  00011110000000101011110000\n",
      "111110000011110001111111\n",
      "[1 1 1 1 1 0 0 0 0 0 1 1 1 1 0 0 0 1 1 1 1 1 1 1 0 0 0 0 0 0 0 0 0 0 0 0 0\n",
      " 0 0 0 0 0 0 0 0 0 0 0 0 0 0 0 0 0 0 0 0 0 0 0 0 0 0 0 0 0 0 0 0 0 0 0 0 0\n",
      " 0 0 0 0 0 0 0 0 0 0 0 0 0 0 0 0 0 0 0 0 0 0 0 0 0 0 0 0 0 0 0 0 0 0 0 0 0\n",
      " 0 0 0 0 0 0 0 0 0 0 0 0 0 0 0 0 0 0 0 0 0 0 0 0 0 0 0 0 0 0 0 0 0 0 0 0 0\n",
      " 0 0 0 0 0 0 0 0 0 0 0 0 0 0 0 0 0 0 0 0 0 0 0 0 0 0 0 0 0 0 0 0 0 0 0 0 0\n",
      " 0 0 0 0 0]\n",
      "Output:  00011100000111010001111100\n",
      "111000011100011000000000\n",
      "[1 1 1 0 0 0 0 1 1 1 0 0 0 1 1 0 0 0 0 0 0 0 0 0 0 0 0 0 0 0 0 0 0 0 0 0 0\n",
      " 0 0 0 0 0 0 0 0 0 0 0 0 0 0 0 0 0 0 0 0 0 0 0 0 0 0 0 0 0 0 0 0 0 0 0 0 0\n",
      " 0 0 0 0 0 0 0 0 0 0 0 0 0 0 0 0 0 0 0 0 0 0 0 0 0 0 0 0 0 0 0 0 0 0 0 0 0\n",
      " 0 0 0 0 0 0 0 0 0 0 0 0 0 0 0 0 0 0 0 0 0 0 0 0 0 0 0 0 0 0 0 0 0 0 0 0 0\n",
      " 0 0 0 0 0 0 0 0 0 0 0 0 0 0 0 0 0 0 0 0 0 0 0 0 0 0 0 0 0 0 0 0 0 0 0 0 0\n",
      " 0 0 0 0 0]\n",
      "Output:  00001101111001110010001111\n",
      "011110111100000001111111\n",
      "[0 1 1 1 1 0 1 1 1 1 0 0 0 0 0 0 0 1 1 1 1 1 1 1 0 0 0 0 0 0 0 0 0 0 0 0 0\n",
      " 0 0 0 0 0 0 0 0 0 0 0 0 0 0 0 0 0 0 0 0 0 0 0 0 0 0 0 0 0 0 0 0 0 0 0 0 0\n",
      " 0 0 0 0 0 0 0 0 0 0 0 0 0 0 0 0 0 0 0 0 0 0 0 0 0 0 0 0 0 0 0 0 0 0 0 0 0\n",
      " 0 0 0 0 0 0 0 0 0 0 0 0 0 0 0 0 0 0 0 0 0 0 0 0 0 0 0 0 0 0 0 0 0 0 0 0 0\n",
      " 0 0 0 0 0 0 0 0 0 0 0 0 0 0 0 0 0 0 0 0 0 0 0 0 0 0 0 0 0 0 0 0 0 0 0 0 0\n",
      " 0 0 0 0 0]\n",
      "Output:  10011101111000001010000100\n"
     ]
    }
   ],
   "source": [
    "tests = ['101010101010101011111111', \n",
    "         '010111100000001110000000', \n",
    "         '111110000011110001111111', \n",
    "         '111000011100011000000000', \n",
    "         '011110111100000001111111']\n",
    "for test in tests:\n",
    "    print(test)\n",
    "    c.simulate(test)"
   ]
  },
  {
   "cell_type": "code",
   "execution_count": null,
   "id": "e937a078-58fb-4f9c-9626-c73136da1282",
   "metadata": {},
   "outputs": [],
   "source": [
    " "
   ]
  }
 ],
 "metadata": {
  "kernelspec": {
   "display_name": "Python 3 (ipykernel)",
   "language": "python",
   "name": "python3"
  },
  "language_info": {
   "codemirror_mode": {
    "name": "ipython",
    "version": 3
   },
   "file_extension": ".py",
   "mimetype": "text/x-python",
   "name": "python",
   "nbconvert_exporter": "python",
   "pygments_lexer": "ipython3",
   "version": "3.9.18"
  }
 },
 "nbformat": 4,
 "nbformat_minor": 5
}
