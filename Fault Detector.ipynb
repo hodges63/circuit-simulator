{
 "cells": [
  {
   "cell_type": "code",
   "execution_count": 1,
   "id": "073faa64-0487-40b9-8dbc-d14cd7812b31",
   "metadata": {
    "tags": []
   },
   "outputs": [],
   "source": [
    "import numpy as np\n",
    "import os\n",
    "import random\n",
    "\n",
    "def buffer(x: np.ndarray):\n",
    "    return x\n",
    "\n",
    "def inverter(x: np.ndarray):\n",
    "    return np.logical_not(x)\n",
    "\n",
    "def AND(x: np.ndarray):\n",
    "    return np.logical_and(x[0], x[1])\n",
    "    \n",
    "def NAND(x: np.ndarray):\n",
    "    return np.logical_not(np.logical_and(x[0], x[1]))\n",
    "\n",
    "def OR(x: np.ndarray):\n",
    "    return np.logical_or(x[0], x[1])\n",
    "    \n",
    "def NOR(x: np.ndarray):\n",
    "    return np.logical_not(np.logical_or(x[0], x[1]))\n",
    "\n",
    "basics = {\n",
    "    'BUF': buffer,\n",
    "    'INV': inverter,\n",
    "    'AND': AND,\n",
    "    'NAND': NAND,\n",
    "    'OR': OR,\n",
    "    'NOR': NOR,\n",
    "    # 'INPUT' = INPUT,\n",
    "    # 'OUTPUT' = OUTPUT\n",
    "}\n",
    "\n",
    "class Circuit:\n",
    "    \n",
    "    # initialize the circuit\n",
    "    # :param file: a file detailing the circuit gates, nodes, and I/O\n",
    "    def __init__(self, file):\n",
    "        self.parse(file)\n",
    "        self.file = file\n",
    "    \n",
    "    # parse the input file\n",
    "    def parse(self, file):\n",
    "        # open file\n",
    "        with open(file) as f:\n",
    "            circuit = f.read()\n",
    "            \n",
    "        # double spaces are annoying\n",
    "        circuit.replace('  ', ' ')\n",
    "        \n",
    "        # create an empty dictionary\n",
    "        self.circuit = {}\n",
    "        \n",
    "        # iterate over each line in the file (each gate or input/output)\n",
    "        for i, element in enumerate(circuit.split('\\n')):\n",
    "            # ignore empty strings/lines\n",
    "            if element == '':\n",
    "                continue\n",
    "            # split the line into each of its components\n",
    "            info = element.split(' ')\n",
    "            \n",
    "            # if the first element is input or output, uses a slightly different format\n",
    "            # {INPUT: [1, 2, 3...]}\n",
    "            if info[0] in ['INPUT', 'OUTPUT']:\n",
    "                self.circuit.update({info[0]: list(map(int, info[2:]))})\n",
    "            # else use this format\n",
    "            # {GATE_#: {IN: [1, 2], OUT: [3]}}\n",
    "            else:\n",
    "                self.circuit.update({info[0]+f'_{i}': {'IN': list(map(int, info[1:-1])), 'OUT': int(info[-1])}})\n",
    "        \n",
    "        # find the largest number in the file\n",
    "        self.length = 0\n",
    "        for line in circuit.split('\\n'):\n",
    "            for num in line.split(' '):\n",
    "                try:\n",
    "                    num = int(num)\n",
    "                    if num > self.length:\n",
    "                        self.length = num\n",
    "                except:\n",
    "                    continue\n",
    "        # add two for direct indexing\n",
    "        # i.e. index 0 and -1 are ignored, so index 1 -> circuit[1]\n",
    "        self.length+=2\n",
    "            \n",
    "    # simulate the circuit until steady state is reached\n",
    "    def simulate(self, input_vector):\n",
    "        # initialize the circuit with all 0s\n",
    "        self.start = np.asarray([0]*self.length)\n",
    "        self.next = np.copy(self.start)\n",
    "        \n",
    "        print('Input: ' + input_vector)\n",
    "        # add the input values\n",
    "        for i, index in zip(input_vector[:], self.circuit['INPUT']):\n",
    "            self.next[index] = int(i)\n",
    "        # print(self.next[1:])\n",
    "        \n",
    "        print(self.start)\n",
    "        print(len(self.start))\n",
    "        # while not in a steady state, continue looping over the gates in the circuit\n",
    "        while not np.array_equal(self.start, self.next):\n",
    "            self.start = np.copy(self.next)\n",
    "            for element in self.circuit.keys():\n",
    "                if element in ['INPUT', 'OUTPUT']:\n",
    "                    continue\n",
    "                self.next[self.circuit[element]['OUT']] = basics[element.split('_')[0]](self.start[self.circuit[element]['IN']])\n",
    "            # print(self.next[1:])\n",
    "        print('Output: ', ''.join([str(a) for a in self.next[self.circuit['OUTPUT']][:-1]]))\n",
    "        return self.next[self.circuit['OUTPUT'][:-1]]\n",
    "    \n",
    "    def _parse_faults(self, file):\n",
    "        with open(file) as f:\n",
    "            lines = [line.rstrip() for line in f]\n",
    "        faults = [line.split(' ') for line in lines[1:]]\n",
    "        return np.asarray(faults, dtype=int)[:, 0].tolist(), np.asarray(faults, dtype=int)[:, 1].tolist()\n",
    "    \n",
    "    def simulate_faults(self, input_vector, file=None, fault_nodes=None, fault_values=None, verbose=True):\n",
    "        \n",
    "        if file is not None:\n",
    "            fault_nodes, fault_values = self._parse_faults(file)\n",
    "        \n",
    "        if fault_nodes is None and file is None:\n",
    "            fault_nodes = list(range(self.length))\n",
    "\n",
    "        if fault_values is None and file is None:\n",
    "            fault_values = [0, 1]*len(fault_nodes)\n",
    "            fault_nodes = fault_nodes*2\n",
    "            fault_nodes.sort()\n",
    "        \n",
    "        self.fault_values = fault_values\n",
    "        self.fault_nodes = fault_nodes\n",
    "        \n",
    "        # initialize N copies of the circuit with all 0s\n",
    "        # each row is N copies of that node\n",
    "        self.start = np.zeros((self.length, len(fault_values)), dtype=int)       \n",
    "        self.next = np.copy(self.start)\n",
    "                \n",
    "        # add the input values\n",
    "        for i, index in zip(input_vector[:], self.circuit['INPUT']):\n",
    "            self.next[index, :] = int(i)\n",
    "        # print(self.next[1:])\n",
    "                \n",
    "        # add the faults into the initial state\n",
    "        for i, (node, value) in enumerate(zip(fault_nodes, fault_values)):\n",
    "            self.next[node, i] = value\n",
    "        \n",
    "        # while not in a steady state, continue looping over the gates in the circuit\n",
    "        while not np.array_equal(self.start, self.next):\n",
    "            self.start = np.copy(self.next)\n",
    "            for element in self.circuit.keys():\n",
    "                if element in ['INPUT', 'OUTPUT']:\n",
    "                    continue\n",
    "                self.next[self.circuit[element]['OUT']] = basics[element.split('_')[0]](self.start[self.circuit[element]['IN']])\n",
    "                # reset faults\n",
    "                for i, (node, value) in enumerate(zip(fault_nodes, fault_values)):\n",
    "                    self.next[node, i] = value\n",
    "        outputs = [''.join([str(int(a)) for a in self.next[self.circuit['OUTPUT'], n][:-1]]) for n in range(len(fault_nodes))]\n",
    "        output = ''\n",
    "        with open(f'fault_analysis_{self.file.split(\"/\")[1]}', 'a') as f:\n",
    "            f.write(f'Circuit: {self.file}\\nInput Vector: {input_vector}\\nFault-Free Output: {outputs[-1]}\\n')\n",
    "            count = 0\n",
    "            for z, output in enumerate(outputs[:-1]):\n",
    "                if output != outputs[-1]:\n",
    "                    count += 1\n",
    "            if file:\n",
    "                f.write(f'FAULTS DETECTED: {count} ({int(100*count/(len(fault_nodes)))}%)\\n')\n",
    "            elif not file:\n",
    "                f.write(f'FAULTS DETECTED: {count} ({int(100*count/(len(fault_nodes)-4))}%)\\n')\n",
    "            for z, output in enumerate(outputs[:-1]):\n",
    "                if output != outputs[-1]:\n",
    "                    f.write(f'    {int(fault_nodes[z])} stuck at {int(fault_values[z])}\\n')\n",
    "            f.write('\\n')\n",
    "        with open(f'fault_analysis_{self.file.split(\"/\")[1]}') as file:\n",
    "            f = file.read()\n",
    "        ff = f.split('\\n\\n')\n",
    "        for x in ff[-2].splitlines():\n",
    "            print(x)\n",
    "        return None"
   ]
  },
  {
   "cell_type": "markdown",
   "id": "ddfe3822-ba1c-483d-9822-ecbfda627894",
   "metadata": {
    "tags": []
   },
   "source": [
    "## S27"
   ]
  },
  {
   "cell_type": "code",
   "execution_count": 2,
   "id": "837a267c-d2c6-4bcd-b5f9-dc62b14a5c58",
   "metadata": {},
   "outputs": [],
   "source": [
    "file = 'Circuit Inputs/s27.txt'\n",
    "c = Circuit(file)"
   ]
  },
  {
   "cell_type": "code",
   "execution_count": 3,
   "id": "c5c782fc-61b0-40f5-87e5-dd2cd0fa6f4d",
   "metadata": {
    "tags": []
   },
   "outputs": [
    {
     "name": "stdout",
     "output_type": "stream",
     "text": [
      "Circuit: Circuit Inputs/s27.txt\n",
      "Input Vector: 0000010\n",
      "Fault-Free Output: 0100\n",
      "FAULTS DETECTED: 16 (40%)\n",
      "    1 stuck at 1\n",
      "    2 stuck at 1\n",
      "    5 stuck at 1\n",
      "    6 stuck at 1\n",
      "    7 stuck at 1\n",
      "    8 stuck at 0\n",
      "    9 stuck at 0\n",
      "    10 stuck at 1\n",
      "    11 stuck at 1\n",
      "    14 stuck at 1\n",
      "    15 stuck at 0\n",
      "    16 stuck at 0\n",
      "    17 stuck at 0\n",
      "    18 stuck at 0\n",
      "    19 stuck at 0\n",
      "    20 stuck at 0\n"
     ]
    }
   ],
   "source": [
    "test='0000010'\n",
    "c.simulate_faults(test, file=None)"
   ]
  },
  {
   "cell_type": "markdown",
   "id": "40c03353-4d9a-4133-b7d5-7cb798c18c29",
   "metadata": {},
   "source": [
    "## S298f_2"
   ]
  },
  {
   "cell_type": "code",
   "execution_count": 4,
   "id": "b883c18e-fcd3-4b1e-90b1-9e4ec2050d07",
   "metadata": {
    "tags": []
   },
   "outputs": [],
   "source": [
    "file = 'Circuit Inputs/s298f_2.txt'\n",
    "c = Circuit(file)"
   ]
  },
  {
   "cell_type": "code",
   "execution_count": null,
   "id": "ad7c9aff-ae5e-4a85-97ee-a6361c700d33",
   "metadata": {
    "tags": []
   },
   "outputs": [],
   "source": [
    "test = '01010000000000000'\n",
    "c.simulate_faults(test)"
   ]
  },
  {
   "cell_type": "markdown",
   "id": "e517101d-85fd-4462-b755-3bf49a70858f",
   "metadata": {},
   "source": [
    "## S344f_2"
   ]
  },
  {
   "cell_type": "code",
   "execution_count": 6,
   "id": "ffe5ca7e-115c-483e-ab12-42188a79a4c2",
   "metadata": {},
   "outputs": [],
   "source": [
    "file = 'Circuit Inputs/s344f_2.txt'\n",
    "c = Circuit(file)"
   ]
  },
  {
   "cell_type": "code",
   "execution_count": null,
   "id": "c033c739-a163-4db8-ac6b-05aa0d6e4625",
   "metadata": {
    "tags": []
   },
   "outputs": [],
   "source": [
    "test = '001000000000000000000000'\n",
    "c.simulate_faults(test)"
   ]
  },
  {
   "cell_type": "markdown",
   "id": "24113cf6-f389-448f-b5a4-28d4c7800c5d",
   "metadata": {},
   "source": [
    "## S349f_2"
   ]
  },
  {
   "cell_type": "code",
   "execution_count": 8,
   "id": "ef879b63-52d7-40ff-82df-25e2feec461d",
   "metadata": {},
   "outputs": [],
   "source": [
    "file = 'Circuit Inputs/s349f_2.txt'\n",
    "c = Circuit(file)"
   ]
  },
  {
   "cell_type": "code",
   "execution_count": null,
   "id": "becf7403-1c62-4d08-8329-a00b967c56ec",
   "metadata": {
    "tags": []
   },
   "outputs": [],
   "source": [
    "tests = '000000000000000000000000'\n",
    "c.simulate_faults(test)"
   ]
  },
  {
   "cell_type": "markdown",
   "id": "e9614e07-6247-40dc-be1a-e3d91f88d943",
   "metadata": {},
   "source": [
    "## S344ff_2"
   ]
  },
  {
   "cell_type": "code",
   "execution_count": 10,
   "id": "5a49b34c-5d24-413f-84a7-1d312f48874a",
   "metadata": {},
   "outputs": [],
   "source": [
    "file = 'Circuit Inputs/s344ff_2.txt'\n",
    "c = Circuit(file)"
   ]
  },
  {
   "cell_type": "code",
   "execution_count": null,
   "id": "baea39cc-2e8c-4c24-9dfd-14bfe6285e95",
   "metadata": {
    "tags": []
   },
   "outputs": [],
   "source": [
    "test = '001000000000000000000000'\n",
    "c.simulate_faults(test)"
   ]
  },
  {
   "cell_type": "code",
   "execution_count": null,
   "id": "bd4de886-f6a2-40d9-ae80-e3e1d6893e60",
   "metadata": {},
   "outputs": [],
   "source": []
  }
 ],
 "metadata": {
  "kernelspec": {
   "display_name": "Python 3 (ipykernel)",
   "language": "python",
   "name": "python3"
  },
  "language_info": {
   "codemirror_mode": {
    "name": "ipython",
    "version": 3
   },
   "file_extension": ".py",
   "mimetype": "text/x-python",
   "name": "python",
   "nbconvert_exporter": "python",
   "pygments_lexer": "ipython3",
   "version": "3.11.5"
  }
 },
 "nbformat": 4,
 "nbformat_minor": 5
}
